{
 "cells": [
  {
   "cell_type": "code",
   "execution_count": 6,
   "id": "74c1e231",
   "metadata": {},
   "outputs": [],
   "source": [
    "import rospy\n",
    "from IPython.display import display\n",
    "try:\n",
    "    rospy.get_node_uri()\n",
    "except:\n",
    "    rospy.init_node('robot_target_node', anonymous=True, disable_signals=True)"
   ]
  },
  {
   "cell_type": "code",
   "execution_count": 7,
   "id": "3595594f",
   "metadata": {},
   "outputs": [],
   "source": [
    "import rospy\n",
    "import math\n",
    "import numpy as np\n",
    "from nav_msgs.msg import Odometry\n",
    "from sensor_msgs.msg import LaserScan\n",
    "from rt1_assignment2_1.msg import Odom_simplified\n",
    "from assignment_2_2024.msg import PlanningAction, PlanningGoal\n",
    "import actionlib\n",
    "from actionlib_msgs.msg import GoalStatus\n",
    "import ipywidgets as widgets\n",
    "from IPython.display import display, clear_output\n",
    "\n",
    "class RobotTarget:\n",
    "    def __init__(self):\n",
    "        # Publishers and Subscribers\n",
    "        self.odom_sub = rospy.Subscriber('/odom', Odometry, self.odom_callback)\n",
    "        self.scan_sub = rospy.Subscriber('/scan', LaserScan, self.scan_callback)\n",
    "        self.odom_simplified_pub = rospy.Publisher('/odom_simplified', Odom_simplified, queue_size=10)\n",
    "        self.ac = actionlib.SimpleActionClient('reaching_goal', PlanningAction)\n",
    "\n",
    "        # Wait for action server\n",
    "        rospy.loginfo(\"Waiting for action server...\")\n",
    "        self.ac.wait_for_server()\n",
    "        rospy.loginfo(\"Action server ready.\")\n",
    "\n",
    "        # Widgets for state display\n",
    "        self.x_widget = widgets.FloatText(description='X:', value=0.0, disabled=True)\n",
    "        self.y_widget = widgets.FloatText(description='Y:', value=0.0, disabled=True)\n",
    "        self.dist_widget = widgets.FloatText(description='Closest Obs:', value=0.0, disabled=True)\n",
    "        \n",
    "        # Widgets for goal setting\n",
    "        self.goal_x = widgets.FloatText(description='Goal X:')\n",
    "        self.goal_y = widgets.FloatText(description='Goal Y:')\n",
    "        self.send_button = widgets.Button(description='Send Goal', button_style='success')\n",
    "        self.cancel_button = widgets.Button(description='Cancel Goal', button_style='danger')\n",
    "\n",
    "        self.send_button.on_click(self.send_goal)\n",
    "        self.cancel_button.on_click(self.cancel_goal)\n",
    "\n",
    "        # Display all widgets\n",
    "        display(widgets.HBox([self.x_widget, self.y_widget, self.dist_widget]))\n",
    "        display(widgets.HBox([self.goal_x, self.goal_y, self.send_button, self.cancel_button]))\n",
    "\n",
    "    def odom_callback(self, msg):\n",
    "        x = msg.pose.pose.position.x\n",
    "        y = msg.pose.pose.position.y\n",
    "\n",
    "        self.x_widget.value = round(x, 2)\n",
    "        self.y_widget.value = round(y, 2)\n",
    "\n",
    "        # Publish simplified odometry\n",
    "        simplified = Odom_simplified()\n",
    "        simplified.x = x\n",
    "        simplified.y = y\n",
    "        simplified.vel_x = msg.twist.twist.linear.x\n",
    "        simplified.vel_z = msg.twist.twist.angular.z\n",
    "        self.odom_simplified_pub.publish(simplified)\n",
    "\n",
    "    def scan_callback(self, msg):\n",
    "        ranges = np.array(msg.ranges)\n",
    "        valid_ranges = ranges[np.isfinite(ranges)]\n",
    "        if valid_ranges.size > 0:\n",
    "            min_dist = np.min(valid_ranges)\n",
    "            self.dist_widget.value = round(min_dist, 2)\n",
    "        else:\n",
    "            self.dist_widget.value = float('inf')\n",
    "\n",
    "    def send_goal(self, b=None):\n",
    "        x = self.goal_x.value\n",
    "        y = self.goal_y.value\n",
    "\n",
    "        goal = PlanningGoal()\n",
    "        goal.target_pose.header.stamp = rospy.Time.now()\n",
    "        goal.target_pose.header.frame_id = \"odom\"\n",
    "        goal.target_pose.pose.position.x = x\n",
    "        goal.target_pose.pose.position.y = y\n",
    "\n",
    "        rospy.loginfo(f\"Sending goal to x={x}, y={y}\")\n",
    "        self.ac.send_goal(goal, done_cb=self.goal_done_cb)\n",
    "\n",
    "    def cancel_goal(self, b=None):\n",
    "        rospy.loginfo(\"Cancelling current goal...\")\n",
    "        self.ac.cancel_goal()\n",
    "\n",
    "    def goal_done_cb(self, state, result=None):\n",
    "        if state == GoalStatus.SUCCEEDED:\n",
    "            rospy.loginfo(\"Goal reached!\")\n",
    "        else:\n",
    "            rospy.logwarn(f\"Goal did not succeed. State: {state}\")\n"
   ]
  },
  {
   "cell_type": "code",
   "execution_count": 8,
   "id": "8d9684a5",
   "metadata": {},
   "outputs": [
    {
     "name": "stdout",
     "output_type": "stream",
     "text": [
      "[INFO] [1746048682.306388, 1807.892000]: Waiting for action server...\n",
      "[INFO] [1746048682.308643, 1807.892000]: Action server ready.\n"
     ]
    },
    {
     "data": {
      "application/vnd.jupyter.widget-view+json": {
       "model_id": "9280058ea4044661aa534d7b6a00c5ae",
       "version_major": 2,
       "version_minor": 0
      },
      "text/plain": [
       "HBox(children=(FloatText(value=-0.56, description='X:', disabled=True), FloatText(value=1.24, description='Y:'…"
      ]
     },
     "metadata": {},
     "output_type": "display_data"
    },
    {
     "data": {
      "application/vnd.jupyter.widget-view+json": {
       "model_id": "5035011d08b247b284950f0880e9138a",
       "version_major": 2,
       "version_minor": 0
      },
      "text/plain": [
       "HBox(children=(FloatText(value=0.0, description='Goal X:'), FloatText(value=0.0, description='Goal Y:'), Butto…"
      ]
     },
     "metadata": {},
     "output_type": "display_data"
    },
    {
     "name": "stdout",
     "output_type": "stream",
     "text": [
      "[INFO] [1746048694.811427, 1820.193000]: Sending goal to x=1.0, y=1.0\n",
      "[INFO] [1746048701.753442, 1827.014000]: Goal reached!\n"
     ]
    }
   ],
   "source": [
    "robot = RobotTarget()"
   ]
  },
  {
   "cell_type": "code",
   "execution_count": 5,
   "id": "235183e2",
   "metadata": {},
   "outputs": [],
   "source": []
  },
  {
   "cell_type": "code",
   "execution_count": 6,
   "id": "b9c992a7",
   "metadata": {},
   "outputs": [],
   "source": []
  },
  {
   "cell_type": "code",
   "execution_count": 7,
   "id": "31cdf23d",
   "metadata": {},
   "outputs": [],
   "source": []
  },
  {
   "cell_type": "code",
   "execution_count": null,
   "id": "777e22dd",
   "metadata": {},
   "outputs": [],
   "source": []
  },
  {
   "cell_type": "code",
   "execution_count": null,
   "id": "d1a12f60",
   "metadata": {},
   "outputs": [],
   "source": []
  }
 ],
 "metadata": {
  "kernelspec": {
   "display_name": "Python 3 (ipykernel)",
   "language": "python",
   "name": "python3"
  },
  "language_info": {
   "codemirror_mode": {
    "name": "ipython",
    "version": 3
   },
   "file_extension": ".py",
   "mimetype": "text/x-python",
   "name": "python",
   "nbconvert_exporter": "python",
   "pygments_lexer": "ipython3",
   "version": "3.8.5"
  }
 },
 "nbformat": 4,
 "nbformat_minor": 5
}
