{
 "cells": [
  {
   "cell_type": "code",
   "execution_count": 21,
   "id": "de65e426",
   "metadata": {},
   "outputs": [
    {
     "ename": "ROSException",
     "evalue": "rospy.init_node() has already been called with different arguments: ('robot_target', ['/usr/local/lib/python3.8/dist-packages/ipykernel_launcher.py', '-f', '/root/.local/share/jupyter/runtime/kernel-14cf336d-7c52-438a-9637-0a62fe9879b4.json'], True, None, False, False)",
     "output_type": "error",
     "traceback": [
      "\u001b[0;31m---------------------------------------------------------------------------\u001b[0m",
      "\u001b[0;31mROSException\u001b[0m                              Traceback (most recent call last)",
      "\u001b[0;32m/tmp/ipykernel_1079/382562537.py\u001b[0m in \u001b[0;36m<module>\u001b[0;34m\u001b[0m\n\u001b[1;32m     14\u001b[0m \u001b[0;34m\u001b[0m\u001b[0m\n\u001b[1;32m     15\u001b[0m \u001b[0;31m# Initialize the ROS node (disable_signals for Jupyter)\u001b[0m\u001b[0;34m\u001b[0m\u001b[0;34m\u001b[0m\u001b[0;34m\u001b[0m\u001b[0m\n\u001b[0;32m---> 16\u001b[0;31m \u001b[0mrospy\u001b[0m\u001b[0;34m.\u001b[0m\u001b[0minit_node\u001b[0m\u001b[0;34m(\u001b[0m\u001b[0;34m'robot_target_node'\u001b[0m\u001b[0;34m,\u001b[0m \u001b[0mdisable_signals\u001b[0m\u001b[0;34m=\u001b[0m\u001b[0;32mTrue\u001b[0m\u001b[0;34m)\u001b[0m\u001b[0;34m\u001b[0m\u001b[0;34m\u001b[0m\u001b[0m\n\u001b[0m",
      "\u001b[0;32m/opt/ros/noetic/lib/python3/dist-packages/rospy/client.py\u001b[0m in \u001b[0;36minit_node\u001b[0;34m(name, argv, anonymous, log_level, disable_rostime, disable_rosout, disable_signals, xmlrpc_port, tcpros_port)\u001b[0m\n\u001b[1;32m    272\u001b[0m     \u001b[0;32mif\u001b[0m \u001b[0m_init_node_args\u001b[0m\u001b[0;34m:\u001b[0m\u001b[0;34m\u001b[0m\u001b[0;34m\u001b[0m\u001b[0m\n\u001b[1;32m    273\u001b[0m         \u001b[0;32mif\u001b[0m \u001b[0m_init_node_args\u001b[0m \u001b[0;34m!=\u001b[0m \u001b[0;34m(\u001b[0m\u001b[0mname\u001b[0m\u001b[0;34m,\u001b[0m \u001b[0margv\u001b[0m\u001b[0;34m,\u001b[0m \u001b[0manonymous\u001b[0m\u001b[0;34m,\u001b[0m \u001b[0mlog_level\u001b[0m\u001b[0;34m,\u001b[0m \u001b[0mdisable_rostime\u001b[0m\u001b[0;34m,\u001b[0m \u001b[0mdisable_signals\u001b[0m\u001b[0;34m)\u001b[0m\u001b[0;34m:\u001b[0m\u001b[0;34m\u001b[0m\u001b[0;34m\u001b[0m\u001b[0m\n\u001b[0;32m--> 274\u001b[0;31m             \u001b[0;32mraise\u001b[0m \u001b[0mrospy\u001b[0m\u001b[0;34m.\u001b[0m\u001b[0mexceptions\u001b[0m\u001b[0;34m.\u001b[0m\u001b[0mROSException\u001b[0m\u001b[0;34m(\u001b[0m\u001b[0;34m\"rospy.init_node() has already been called with different arguments: \"\u001b[0m\u001b[0;34m+\u001b[0m\u001b[0mstr\u001b[0m\u001b[0;34m(\u001b[0m\u001b[0m_init_node_args\u001b[0m\u001b[0;34m)\u001b[0m\u001b[0;34m)\u001b[0m\u001b[0;34m\u001b[0m\u001b[0;34m\u001b[0m\u001b[0m\n\u001b[0m\u001b[1;32m    275\u001b[0m         \u001b[0;32melse\u001b[0m\u001b[0;34m:\u001b[0m\u001b[0;34m\u001b[0m\u001b[0;34m\u001b[0m\u001b[0m\n\u001b[1;32m    276\u001b[0m             \u001b[0;32mreturn\u001b[0m \u001b[0;31m#already initialized\u001b[0m\u001b[0;34m\u001b[0m\u001b[0;34m\u001b[0m\u001b[0m\n",
      "\u001b[0;31mROSException\u001b[0m: rospy.init_node() has already been called with different arguments: ('robot_target', ['/usr/local/lib/python3.8/dist-packages/ipykernel_launcher.py', '-f', '/root/.local/share/jupyter/runtime/kernel-14cf336d-7c52-438a-9637-0a62fe9879b4.json'], True, None, False, False)"
     ]
    }
   ],
   "source": [
    "import rospy\n",
    "import numpy as np\n",
    "import matplotlib.pyplot as plt\n",
    "from matplotlib.animation import FuncAnimation\n",
    "from nav_msgs.msg import Odometry\n",
    "from sensor_msgs.msg import LaserScan\n",
    "from rt1_assignment2_1.msg import Odom_simplified\n",
    "from assignment_2_2024.msg import PlanningAction, PlanningGoal\n",
    "import actionlib\n",
    "from actionlib_msgs.msg import GoalStatus\n",
    "import ipywidgets as widgets\n",
    "from IPython.display import display, clear_output\n",
    "from geometry_msgs.msg import Pose\n",
    "\n",
    "# Initialize the ROS node (disable_signals for Jupyter)\n",
    "rospy.init_node('robot_target_node', disable_signals=True)"
   ]
  },
  {
   "cell_type": "code",
   "execution_count": 27,
   "id": "3595594f",
   "metadata": {},
   "outputs": [],
   "source": [
    "class RobotTarget:\n",
    "    def __init__(self):\n",
    "        # State\n",
    "        self.position_history = []\n",
    "        self.reached_goals = 0\n",
    "        self.failed_goals = 0\n",
    "        self.latest_position = (0, 0)\n",
    "        self.closest_obstacle = float('inf')\n",
    "\n",
    "        # Widgets FIRST\n",
    "        self.x_widget = widgets.FloatText(description='X:', disabled=True)\n",
    "        self.y_widget = widgets.FloatText(description='Y:', disabled=True)\n",
    "        self.dist_widget = widgets.FloatText(description='Closest Obs:', disabled=True)\n",
    "        self.goal_x = widgets.FloatText(description='Goal X:')\n",
    "        self.goal_y = widgets.FloatText(description='Goal Y:')\n",
    "        self.send_button = widgets.Button(description='Send Goal', button_style='success')\n",
    "        self.cancel_button = widgets.Button(description='Cancel Goal', button_style='danger')\n",
    "        self.send_button.on_click(self.send_goal)\n",
    "        self.cancel_button.on_click(self.cancel_goal)\n",
    "\n",
    "        # Display UI\n",
    "        display(widgets.HBox([self.x_widget, self.y_widget, self.dist_widget]))\n",
    "        display(widgets.HBox([self.goal_x, self.goal_y, self.send_button, self.cancel_button]))\n",
    "\n",
    "        # ROS connections AFTER widgets\n",
    "        self.ac = actionlib.SimpleActionClient('reaching_goal', PlanningAction)\n",
    "        self.ac.wait_for_server()\n",
    "        self.odom_sub = rospy.Subscriber('/odom', Odometry, self.odom_callback)\n",
    "        self.scan_sub = rospy.Subscriber('/scan', LaserScan, self.scan_callback)\n",
    "        self.odom_pub = rospy.Publisher('/odom_simplified', Odom_simplified, queue_size=10)\n",
    "\n",
    "    def odom_callback(self, msg):\n",
    "        x = msg.pose.pose.position.x\n",
    "        y = msg.pose.pose.position.y\n",
    "        self.latest_position = (x, y)\n",
    "        self.position_history.append((x, y))\n",
    "        self.x_widget.value = round(x, 2)\n",
    "        self.y_widget.value = round(y, 2)\n",
    "\n",
    "        simplified = Odom_simplified()\n",
    "        simplified.x = x\n",
    "        simplified.y = y\n",
    "        simplified.vel_x = msg.twist.twist.linear.x\n",
    "        simplified.vel_z = msg.twist.twist.angular.z\n",
    "        self.odom_pub.publish(simplified)\n",
    "\n",
    "    def scan_callback(self, msg):\n",
    "        ranges = np.array(msg.ranges)\n",
    "        valid = ranges[np.isfinite(ranges)]\n",
    "        if valid.size > 0:\n",
    "            self.closest_obstacle = np.min(valid)\n",
    "            self.dist_widget.value = round(self.closest_obstacle, 2)\n",
    "\n",
    "    def send_goal(self, b=None):\n",
    "        goal = PlanningGoal()\n",
    "        goal.target_pose.header.stamp = rospy.Time.now()\n",
    "        goal.target_pose.header.frame_id = \"odom\"\n",
    "        goal.target_pose.pose.position.x = self.goal_x.value\n",
    "        goal.target_pose.pose.position.y = self.goal_y.value\n",
    "        self.ac.send_goal(goal, done_cb=self.goal_done_cb)\n",
    "\n",
    "    def cancel_goal(self, b=None):\n",
    "        self.ac.cancel_goal()\n",
    "\n",
    "    def goal_done_cb(self, state, result=None):\n",
    "        if state == GoalStatus.SUCCEEDED:\n",
    "            self.reached_goals += 1\n",
    "            rospy.loginfo(\"Goal reached.\")\n",
    "        else:\n",
    "            self.failed_goals += 1\n",
    "            rospy.logwarn(\"Goal not reached.\")"
   ]
  },
  {
   "cell_type": "code",
   "execution_count": null,
   "id": "8d9684a5",
   "metadata": {},
   "outputs": [],
   "source": []
  },
  {
   "cell_type": "code",
   "execution_count": 34,
   "id": "235183e2",
   "metadata": {},
   "outputs": [
    {
     "data": {
      "image/png": "[encoded data removed]",
      "text/plain": [
       "<Figure size 432x432 with 1 Axes>"
      ]
     },
     "metadata": {
      "needs_background": "light"
     },
     "output_type": "display_data"
    }
   ],
   "source": [
    "fig, ax = plt.subplots(figsize=(6, 6))\n",
    "line, = ax.plot([], [], 'b-', label='Path')\n",
    "point, = ax.plot([], [], 'ro', label='Robot')\n",
    "ax.set_xlim(-10, 10)\n",
    "ax.set_ylim(-10, 10)\n",
    "ax.set_title(\"Robot Position\")\n",
    "ax.set_xlabel(\"X\")\n",
    "ax.set_ylabel(\"Y\")\n",
    "ax.legend()\n",
    "\n",
    "def update(frame):\n",
    "    if robot.position_history:\n",
    "        xs, ys = zip(*robot.position_history)\n",
    "        line.set_data(xs, ys)\n",
    "        point.set_data(xs[-1], ys[-1])\n",
    "    return line, point\n",
    "\n",
    "ani = FuncAnimation(fig, update, interval=500)\n",
    "plt.show()\n"
   ]
  },
  {
   "cell_type": "code",
   "execution_count": 33,
   "id": "b9c992a7",
   "metadata": {},
   "outputs": [
    {
     "data": {
      "image/png": "[encoded data removed]",
      "text/plain": [
       "<Figure size 432x288 with 1 Axes>"
      ]
     },
     "metadata": {
      "needs_background": "light"
     },
     "output_type": "display_data"
    }
   ],
   "source": [
    "fig2, ax2 = plt.subplots()\n",
    "bars = ax2.bar(['Reached', 'Failed'], [0, 0], color=['green', 'red'])\n",
    "ax2.set_ylim(0, 10)\n",
    "ax2.set_title(\"Goals Outcome\")\n",
    "ax2.set_ylabel(\"Count\")\n",
    "\n",
    "def update_bars(frame):\n",
    "    bars[0].set_height(robot.reached_goals)\n",
    "    bars[1].set_height(robot.failed_goals)\n",
    "    return bars\n",
    "\n",
    "ani2 = FuncAnimation(fig2, update_bars, interval=1000)\n",
    "plt.show()\n"
   ]
  },
  {
   "cell_type": "code",
   "execution_count": 28,
   "id": "31cdf23d",
   "metadata": {},
   "outputs": [
    {
     "data": {
      "application/vnd.jupyter.widget-view+json": {
       "model_id": "63232564cfef40cbaadd6b9c2ef4320a",
       "version_major": 2,
       "version_minor": 0
      },
      "text/plain": [
       "HBox(children=(FloatText(value=0.0, description='X:', disabled=True), FloatText(value=0.0, description='Y:', d…"
      ]
     },
     "metadata": {},
     "output_type": "display_data"
    },
    {
     "data": {
      "application/vnd.jupyter.widget-view+json": {
       "model_id": "979d82c891554d10905442127c5ed3f8",
       "version_major": 2,
       "version_minor": 0
      },
      "text/plain": [
       "HBox(children=(FloatText(value=0.0, description='Goal X:'), FloatText(value=0.0, description='Goal Y:'), Butto…"
      ]
     },
     "metadata": {},
     "output_type": "display_data"
    },
    {
     "name": "stderr",
     "output_type": "stream",
     "text": [
      "[WARN] [1746050775.580547, 3849.530000]: Goal not reached.\n"
     ]
    }
   ],
   "source": [
    "robot = RobotTarget()"
   ]
  },
  {
   "cell_type": "code",
   "execution_count": null,
   "id": "777e22dd",
   "metadata": {},
   "outputs": [],
   "source": []
  },
  {
   "cell_type": "code",
   "execution_count": null,
   "id": "d1a12f60",
   "metadata": {},
   "outputs": [],
   "source": []
  }
 ],
 "metadata": {
  "kernelspec": {
   "display_name": "Python 3 (ipykernel)",
   "language": "python",
   "name": "python3"
  },
  "language_info": {
   "codemirror_mode": {
    "name": "ipython",
    "version": 3
   },
   "file_extension": ".py",
   "mimetype": "text/x-python",
   "name": "python",
   "nbconvert_exporter": "python",
   "pygments_lexer": "ipython3",
   "version": "3.8.5"
  }
 },
 "nbformat": 4,
 "nbformat_minor": 5
}
